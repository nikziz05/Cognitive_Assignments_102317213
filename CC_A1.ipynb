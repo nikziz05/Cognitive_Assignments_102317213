{
  "cells": [
    {
      "cell_type": "code",
      "execution_count": null,
      "metadata": {
        "id": "K5hzDkzm5qQE",
        "outputId": "856a410c-a980-42f2-fe28-4430631cb254"
      },
      "outputs": [
        {
          "name": "stdout",
          "output_type": "stream",
          "text": [
            "Hello world!!\n"
          ]
        }
      ],
      "source": [
        "# PROGRAM 1: WAP to print “Hello World”\n",
        "print('Hello','world!!')\n"
      ]
    },
    {
      "cell_type": "code",
      "execution_count": null,
      "metadata": {
        "scrolled": true,
        "id": "jmJq603u5qQH",
        "outputId": "08f69180-33b6-4382-bfaa-5f9f5d42b25d"
      },
      "outputs": [
        {
          "name": "stdout",
          "output_type": "stream",
          "text": [
            "Welcome to My Home\n"
          ]
        }
      ],
      "source": [
        "#print(i, end=' ')\n",
        "#keeps everything on same line\n",
        "print(\"Welcome to\", end = \" \" )\n",
        "print(\"My Home\")\n"
      ]
    },
    {
      "cell_type": "code",
      "execution_count": null,
      "metadata": {
        "id": "_BgnDaRP5qQI",
        "outputId": "54f327f7-3b58-4f03-e730-73ca969c0cbb"
      },
      "outputs": [
        {
          "name": "stdout",
          "output_type": "stream",
          "text": [
            "My mail id is : indira_rana@.com\n"
          ]
        }
      ],
      "source": [
        "print(\"My mail id is \",end = ': ')\n",
        "print(\"indira_rana\", end = '@')\n",
        "print(\".com\")"
      ]
    },
    {
      "cell_type": "code",
      "execution_count": null,
      "metadata": {
        "id": "aMZxmA1k5qQJ",
        "outputId": "a603541a-38cb-4fbf-f565-ee2d87ab33bd"
      },
      "outputs": [
        {
          "name": "stdout",
          "output_type": "stream",
          "text": [
            "RITU\n",
            "NEHA\n",
            "MANJEET\n"
          ]
        }
      ],
      "source": [
        "print(\"RITU\")\n",
        "print(\"NEHA\")\n",
        "print(\"MANJEET\")"
      ]
    },
    {
      "cell_type": "code",
      "execution_count": null,
      "metadata": {
        "id": "-OxueJz-5qQL"
      },
      "outputs": [],
      "source": [
        "i,x,s, = 0,\"ritu\",1.4"
      ]
    },
    {
      "cell_type": "code",
      "execution_count": null,
      "metadata": {
        "id": "PZr9a8K85qQL"
      },
      "outputs": [],
      "source": [
        "#The Fibonacci numbers are the sequence below, where the first two numbers are 1, and each\n",
        "#number thereafter is the sum of the two preceding numbers. Write a program that asks the\n",
        "#user how many Fibonacci numbers to print and then prints that many.\n",
        "#1, 1, 2, 3, 5, 8, 13, 21, 34, 55, 89 . .\n",
        "#Program to display the Fibonacci sequence up to n-th term\n",
        "n = int(input(\"first no is:\"))\n",
        "print(\"fibonacci series is :\")\n",
        "i,x,s, = 0,\"ritu\",1\n",
        "while i <= n:\n",
        "    print(s)\n",
        "    sum = x + s\n",
        "x=s\n",
        "s=sum\n",
        "i= i+1\n",
        "\n"
      ]
    },
    {
      "cell_type": "code",
      "execution_count": null,
      "metadata": {
        "id": "9fuiCx-C5qQM",
        "outputId": "c639c467-6bde-43b3-f3b4-7d1b1df4e5ff"
      },
      "outputs": [
        {
          "name": "stdout",
          "output_type": "stream",
          "text": [
            "15\n"
          ]
        }
      ],
      "source": [
        "#PROGRAM 2: WAP to Add numbers and Concatenate strings\n",
        "# Program 2.1: Add two numbers\n",
        "a = 5\n",
        "b = 10\n",
        "sum = a+b\n",
        "print(sum)\n"
      ]
    },
    {
      "cell_type": "code",
      "execution_count": null,
      "metadata": {
        "id": "6TaXxyCW5qQM",
        "outputId": "46c49bb8-30fc-430d-e5d9-bf8259391539"
      },
      "outputs": [
        {
          "name": "stdout",
          "output_type": "stream",
          "text": [
            "My name is Ritu Rana\n"
          ]
        }
      ],
      "source": [
        "#Program 2.2: Concatenate two strings\n",
        "a= \"My name is \"\n",
        "b=\"Ritu Rana\"\n",
        "print(a+b)"
      ]
    },
    {
      "cell_type": "code",
      "execution_count": null,
      "metadata": {
        "id": "PiliSUxE5qQO"
      },
      "outputs": [],
      "source": [
        "#PROGRAM 3: WAP to take Input from user\n",
        "#Program 3.1: Input two numbers from user and add them\n",
        "a = int(input(\"Enter the value of first a: \"))\n",
        "b = int(input(\"Enter the value of b: \"))\n",
        "sum = a+b\n",
        "print(\"sum of two numbers a + b = \", sum)"
      ]
    },
    {
      "cell_type": "code",
      "execution_count": null,
      "metadata": {
        "id": "AnyEZOto5qQO"
      },
      "outputs": [],
      "source": [
        "#Program 3.2: Input two strings from user and concatenate them\n",
        "a=input(\"first string \")\n",
        "b=input(\"second string \")\n",
        "print(a + b)"
      ]
    },
    {
      "cell_type": "code",
      "execution_count": null,
      "metadata": {
        "id": "RuHFXEMH5qQP",
        "outputId": "61254875-153d-4fd1-be64-bf65365ee352"
      },
      "outputs": [
        {
          "name": "stdout",
          "output_type": "stream",
          "text": [
            "first string q\n",
            "second string w\n",
            "q w"
          ]
        }
      ],
      "source": [
        "a=input(\"first string \")\n",
        "b=input(\"second string \")\n",
        "print(a, end = ' ' + b)\n"
      ]
    },
    {
      "cell_type": "code",
      "execution_count": null,
      "metadata": {
        "id": "qW1gq1yx5qQQ"
      },
      "outputs": [],
      "source": [
        "num1 = input('Enter first number: ')\n",
        "num2 = input('Enter second number: ')\n",
        "sum = float(num1) + float(num2)\n",
        "print(sum)"
      ]
    },
    {
      "cell_type": "code",
      "execution_count": null,
      "metadata": {
        "id": "b1wVq_0T5qQR",
        "outputId": "580511c0-c3b6-443e-df1c-853b7b431625"
      },
      "outputs": [
        {
          "name": "stdout",
          "output_type": "stream",
          "text": [
            "enter the value of: 4\n",
            "sum of n numbers is:  10\n"
          ]
        }
      ],
      "source": [
        "#PROGRAM 4: WAP to understand the concept of Loops\n",
        "#Program 4.1: While Loop\n",
        "#Sum of n numbers\n",
        "n= int(input(\"enter the value of: \"))\n",
        "i=1\n",
        "sum=0\n",
        "while i <= n:\n",
        "    sum = sum + i\n",
        "    i = i + 1\n",
        "print(\"sum of n numbers is: \", sum)\n"
      ]
    },
    {
      "cell_type": "code",
      "execution_count": null,
      "metadata": {
        "id": "P6IXVqzf5qQR",
        "outputId": "01406011-6e16-49f9-bde2-1d0a1e332d34"
      },
      "outputs": [
        {
          "name": "stdout",
          "output_type": "stream",
          "text": [
            "0 1 2 3 4 5 6 7 8 9 10 11 12 13 14 15 16 17 18 19 "
          ]
        }
      ],
      "source": [
        "#Program 4.2: Range Function\n",
        "x = range(0,20)\n",
        "for n in x:\n",
        "    print(n, end = \" \")\n"
      ]
    },
    {
      "cell_type": "code",
      "execution_count": null,
      "metadata": {
        "id": "TQRMt1SQ5qQR",
        "outputId": "a6621ca5-6bf6-4119-9e80-c32dd92cc977"
      },
      "outputs": [
        {
          "name": "stdout",
          "output_type": "stream",
          "text": [
            "1 3 5 7 9 11 13 15 17 19 "
          ]
        }
      ],
      "source": [
        "# range(start, stop, step)\n",
        "x = range(1,21,2)\n",
        "for n in x:\n",
        "    print(n, end = \" \")\n"
      ]
    },
    {
      "cell_type": "code",
      "execution_count": null,
      "metadata": {
        "id": "navfjFu85qQS",
        "outputId": "436d3138-7dac-4eb6-af77-09139d886531"
      },
      "outputs": [
        {
          "name": "stdout",
          "output_type": "stream",
          "text": [
            "Enter the value of n: 6\n",
            "0\n",
            "1\n",
            "2\n",
            "3\n",
            "4\n",
            "5\n"
          ]
        }
      ],
      "source": [
        "#program 4.3:For Loop\n",
        "# print a series of n numbers\n",
        "n = int(input(\"Enter the value of n: \"))\n",
        "for i in range(n):\n",
        "      print(i)"
      ]
    },
    {
      "cell_type": "code",
      "execution_count": null,
      "metadata": {
        "id": "A8YkEnk85qQS",
        "outputId": "58b6cd5d-24bb-47ea-af14-5323607c2248"
      },
      "outputs": [
        {
          "name": "stdout",
          "output_type": "stream",
          "text": [
            "The table of: 7\n",
            "7 x 1 = 7\n",
            "7 x 2 = 14\n",
            "7 x 3 = 21\n",
            "7 x 4 = 28\n",
            "7 x 5 = 35\n",
            "7 x 6 = 42\n",
            "7 x 7 = 49\n",
            "7 x 8 = 56\n",
            "7 x 9 = 63\n",
            "7 x 10 = 70\n"
          ]
        }
      ],
      "source": [
        "#program 4.4: Multiplication table of 5 in Python\n",
        "n = int(input(\"The table of: \"))\n",
        "for i in range(1,11):\n",
        "    print(n ,'x', i ,'=',n * i)"
      ]
    },
    {
      "cell_type": "code",
      "execution_count": null,
      "metadata": {
        "id": "wIjxVeKA5qQS",
        "outputId": "9d176b97-460d-40fa-e0ec-85d466de9f98"
      },
      "outputs": [
        {
          "name": "stdout",
          "output_type": "stream",
          "text": [
            "enter the number 7\n",
            "1 2 3 4 5 6 7 \n",
            "Sum of first  7 numbers is:  28\n"
          ]
        }
      ],
      "source": [
        "#Program 4.5: Sum all numbers from 1 to 10\n",
        "n = int(input(\"enter the number \"))\n",
        "for i in range(1, n+1):\n",
        "    print(i, end = \" \")\n",
        "sum = 0\n",
        "for x in range(n+1):\n",
        "  sum = sum + x\n",
        "print(end = '\\n')\n",
        "print(\"Sum of first \", n, \"numbers is: \", sum)\n",
        "\n",
        "\n"
      ]
    },
    {
      "cell_type": "code",
      "execution_count": null,
      "metadata": {
        "id": "GVClxyoO5qQT",
        "outputId": "555b9db7-5193-4468-e572-6f1b1256a6f2"
      },
      "outputs": [
        {
          "name": "stdout",
          "output_type": "stream",
          "text": [
            "Enter the first number: 3\n",
            "Enter the second number: 4\n",
            "Second Number is greater\n"
          ]
        }
      ],
      "source": [
        "#PROGRAM 5: WAP to understand the concept of If-Else - Conditional Checking\n",
        "# Program 5.1: Input two numbers from user and compare them\n",
        "firstNo = int(input(\"Enter the first number: \"))\n",
        "secondNo = int(input(\"Enter the second number: \"))\n",
        "if firstNo>secondNo:\n",
        "    print(\"Frist Number is greater \")\n",
        "\n",
        "elif firstNo == secondNo:\n",
        "    print(\"Both numbers are equal\")\n",
        "else:\n",
        "    print(\"Second Number is greater\")"
      ]
    },
    {
      "cell_type": "code",
      "execution_count": null,
      "metadata": {
        "id": "MnELfLDd5qQT",
        "outputId": "00133e6c-67b5-427a-ec52-9b4082022ae3"
      },
      "outputs": [
        {
          "name": "stdout",
          "output_type": "stream",
          "text": [
            "enter the number 23\n",
            "the number is odd\n"
          ]
        }
      ],
      "source": [
        "#Program 5.2: Check whether a number is odd or even\n",
        "n = int(input(\"enter the number \"))\n",
        "if n%2==0:\n",
        "    print(\"the number is even\")\n",
        "else:\n",
        "    print(\"the number is odd\")"
      ]
    },
    {
      "cell_type": "code",
      "execution_count": null,
      "metadata": {
        "id": "2uOMmr-M5qQU",
        "outputId": "338e3b9c-bf01-47fe-ffbd-02b468f6ded7"
      },
      "outputs": [
        {
          "name": "stdout",
          "output_type": "stream",
          "text": [
            "Enter a number: 12\n",
            "12 is not a prime number\n",
            "2 x 6 are 12\n"
          ]
        }
      ],
      "source": [
        "#Program 5.3: Check whether a number is prime or not\n",
        "a = int(input(\"Enter a number: \"))\n",
        "if a > 1:\n",
        "    for i in range(2,a):\n",
        "        #print(i, end = \" \")\n",
        "        #print(end = \"\\n \")\n",
        "        if a % i == 0:\n",
        "            print(a,\"is not a prime number\")\n",
        "            print(i,\"x\",a//i,\"are\",a)\n",
        "            break\n",
        "    else:\n",
        "        print(a,\"is a prime number\")\n",
        "\n",
        "else:\n",
        "    print(a,\"is not a prime number\")"
      ]
    },
    {
      "cell_type": "code",
      "execution_count": null,
      "metadata": {
        "id": "JC3KkQ0r5qQV",
        "outputId": "34499a4c-49d3-4836-c6d9-bfb6b90cdd0a"
      },
      "outputs": [
        {
          "name": "stdout",
          "output_type": "stream",
          "text": [
            "input the number 1st : 3\n",
            "input the number 2nd :4\n",
            "The sum of two numbers is :  7\n"
          ]
        }
      ],
      "source": [
        "# PROGRAM 6: WAP to understand the concept of Functions\n",
        "# Program 6.1: Add two numbers\n",
        "def addNum(x,y):\n",
        "    return x + y\n",
        "# sum = x+y;\n",
        " #return sum;\n",
        "\n",
        "a = int(input(\"input the number 1st : \"))\n",
        "b = int(input(\"input the number 2nd :\"))\n",
        "\n",
        "print(\"The sum of two numbers is : \",addNum(a,b))\n",
        "\n"
      ]
    },
    {
      "cell_type": "code",
      "execution_count": null,
      "metadata": {
        "id": "N-Por00w5qQV",
        "outputId": "2dac5cd5-27c3-4405-a97d-cde4b7c5ed6f"
      },
      "outputs": [
        {
          "name": "stdout",
          "output_type": "stream",
          "text": [
            "Enter any number : 7\n",
            "7 is a prime number\n"
          ]
        }
      ],
      "source": [
        "#Program 6.2: Prime number using Functions\n",
        "def primeNum(num):\n",
        "    if num > 1:\n",
        "        for i in range(2,num):\n",
        "            #print(i, end = \" \")\n",
        "            if num % i == 0:\n",
        "                print(num,\"is not a prime number\")\n",
        "                print(i,\"x\",num//i,\"are\",num)\n",
        "                break\n",
        "        else:\n",
        "            print(num,\"is a prime number\")\n",
        "\n",
        "    else:\n",
        "        print(num,\"is not a prime number\")\n",
        "\n",
        "a = int(input(\"Enter any number : \"))\n",
        "primeNum(a)\n",
        "\n",
        ""
      ]
    },
    {
      "cell_type": "code",
      "execution_count": null,
      "metadata": {
        "id": "R1rKaIH25qQX",
        "outputId": "1629beaa-aa51-4bc0-c7e2-89b0c4de8daf"
      },
      "outputs": [
        {
          "name": "stdout",
          "output_type": "stream",
          "text": [
            "Please Enter any Number: 3\n",
            "Sum of Natural Numbers from 1 to 3 =  6.0\n"
          ]
        }
      ],
      "source": [
        "#Program 6.3: Add 1 to n using functions\n",
        "def sumOfNaturalNum(num):\n",
        "    if num == 0:\n",
        "        return num\n",
        "    else:\n",
        "        sum = num * (num + 1)/2\n",
        "        return sum\n",
        "a = int(input(\"Please Enter any Number: \"))\n",
        "\n",
        "totalSum = sumOfNaturalNum(a)\n",
        "print(\"Sum of Natural Numbers from 1 to {0} =  {1}\".format(a, totalSum))\n"
      ]
    },
    {
      "cell_type": "code",
      "execution_count": null,
      "metadata": {
        "id": "EXImQmvI5qQY",
        "outputId": "24a85646-d34c-4e9b-b2d8-83d0cfe9614a"
      },
      "outputs": [
        {
          "name": "stdout",
          "output_type": "stream",
          "text": [
            "3\n",
            "102 India\n"
          ]
        }
      ],
      "source": [
        "#PROGRAM 7: WAP using Demo of Data Structure - List\n",
        "#Program 11.1: List Declaration\n",
        "a = [1,2,3,4,5,6]\n",
        "print(a[2])\n",
        "stu = [\"Rohan\", 102, \"India\"]\n",
        "#print(\"Name : %s, ID : %d, Country : %s\"%(stu[0],stu[1],stu[2]))\n",
        "print(stu[1],stu[2])\n"
      ]
    },
    {
      "cell_type": "code",
      "execution_count": null,
      "metadata": {
        "id": "DvnfDzcB5qQY",
        "outputId": "dd4026e3-9cef-4833-a3d0-d3896f8e71a0"
      },
      "outputs": [
        {
          "name": "stdout",
          "output_type": "stream",
          "text": [
            "3 4 "
          ]
        }
      ],
      "source": [
        "#Program 11.2: List Iteration\n",
        "r = [1,2,3]\n",
        "list1 = [1,2,3,\"Ram\",\"Sham\"]\n",
        "lstLenth = len(list1)\n",
        "for i in range(3,lstLenth):\n",
        "    print(i, end = \" \")\n",
        "    #print(list[i])"
      ]
    },
    {
      "cell_type": "code",
      "execution_count": null,
      "metadata": {
        "id": "UlTn3Yo55qQZ",
        "outputId": "3f269cb6-b53f-4f47-81ac-fdd6511a0448"
      },
      "outputs": [
        {
          "name": "stdout",
          "output_type": "stream",
          "text": [
            "Length of the lisi is:  5\n",
            "Elements of the list are: \n",
            "1 Ram Rohan 3 4 "
          ]
        }
      ],
      "source": [
        "#Program 11.3: List Iteration using for loop\n",
        "lst = [1,\"Ram\", \"Rohan\", 3, 4]\n",
        "listLength = len(lst)\n",
        "print(\"Length of the lisi is: \", listLength)\n",
        "print(\"Elements of the list are: \")\n",
        "for i in lst:\n",
        "    print(i, end = \" \")\n",
        "\n"
      ]
    },
    {
      "cell_type": "code",
      "execution_count": null,
      "metadata": {
        "id": "t_7_Iqzc5qQa",
        "outputId": "0fa57f45-0450-46c2-f852-cdf79c990fe7"
      },
      "outputs": [
        {
          "name": "stdout",
          "output_type": "stream",
          "text": [
            "EmpName:  Rama\n",
            "EmpID:  34\n",
            "EmpCountry:  USA\n"
          ]
        }
      ],
      "source": [
        "# list iteration using while loop\n",
        "emp = [\"Rama\",34,\"USA\"]\n",
        "length = len(emp)\n",
        "i = 0\n",
        "while i < length:\n",
        "    #print(\"sName: \",emp[i])\n",
        "    if i == 0:\n",
        "        print(\"EmpName: \",emp[i])\n",
        "    elif i == 1:\n",
        "        print(\"EmpID: \",emp[i])\n",
        "    else:\n",
        "        print(\"EmpCountry: \", emp[i])\n",
        "    i = i+1\n",
        "\n",
        "\n",
        ""
      ]
    },
    {
      "cell_type": "code",
      "execution_count": null,
      "metadata": {
        "id": "iTMr4jgv5qQb",
        "outputId": "668f8b18-be0c-4e3c-cffc-6ceab52b54da"
      },
      "outputs": [
        {
          "name": "stdout",
          "output_type": "stream",
          "text": [
            "['Joni', 'Rama', 'Meera', 'Jiya', 'Joojh', 'Ritu']\n",
            "['Joni', 'Rama', 'Meera', 'Jiya', 'Joojh', 'Ritu', 1]\n",
            "['Joni', 'Rama', 'Meera', 'Jiya', 'Joojh', 'Ritu', 1, (1, 2, 3, 4, 5)]\n",
            "['Joni', 'Rama', 'Meera', 'Jiya', 'Joojh', 'Ritu', 1, (1, 2, 3, 4, 5), 1, 2, 3, 4, 5]\n"
          ]
        }
      ],
      "source": [
        "# Program 11.4 : Adding and deleting from list\n",
        "#adding to list\n",
        "stuNames = ['Joni', 'Rama', 'Meera', 'Jiya', 'Joojh']\n",
        "stuRollNum = (1,2,3,4,5)\n",
        "stuNames.append('Ritu')\n",
        "print(stuNames)\n",
        "stuNames.append(1)\n",
        "print(stuNames)\n",
        "stuNames.append(stuRollNum)\n",
        "print(stuNames)\n",
        "stuNames.extend(stuRollNum)\n",
        "print(stuNames)"
      ]
    },
    {
      "cell_type": "code",
      "execution_count": null,
      "metadata": {
        "id": "c0EV5PzV5qQb",
        "outputId": "ab422dd2-d5fa-495f-b772-8aa8a2187e24"
      },
      "outputs": [
        {
          "name": "stdout",
          "output_type": "stream",
          "text": [
            "['Joni', 'Rama', 'Meera', 'Jiya']\n",
            "['Joni', 'Jiya']\n"
          ]
        }
      ],
      "source": [
        "#deleting from list\n",
        "stuNames = ['Joni', 'Rama', 'Meera', 'Jiya', 'Joojh']\n",
        "del stuNames[4]\n",
        "print(stuNames)\n",
        "del stuNames[1:3]\n",
        "print(stuNames)\n"
      ]
    },
    {
      "cell_type": "code",
      "execution_count": null,
      "metadata": {
        "id": "krkqvDSM5qQb",
        "outputId": "882ab9f4-25b0-459a-a661-8774fd33b70e"
      },
      "outputs": [
        {
          "name": "stdout",
          "output_type": "stream",
          "text": [
            "enter the number of elements you want in the list: 3\n",
            "enter element in list : w\n",
            "enter element in list : r\n",
            "enter element in list : t\n",
            "List of enterd elements : \n",
            "['w', 'r', 't']\n",
            "w r t "
          ]
        }
      ],
      "source": [
        "#add elements in empty list\n",
        "stuList = []\n",
        "noElm = int(input(\"enter the number of elements you want in the list: \"))\n",
        "for i in range(0,noElm):\n",
        "    stuList.append(input(\"enter element in list : \"))\n",
        "print(\"List of enterd elements : \")\n",
        "print(stuList)\n",
        "for x in stuList:\n",
        "\n",
        "    print(x, end = \" \")\n",
        "\n",
        ""
      ]
    },
    {
      "cell_type": "code",
      "execution_count": null,
      "metadata": {
        "id": "V5gJl4dn5qQc",
        "outputId": "2a85403f-7930-458a-8600-1d17213ae7f8"
      },
      "outputs": [
        {
          "name": "stdout",
          "output_type": "stream",
          "text": [
            "List before removing element : \n",
            "Joni Rama Meera Jiya Joojh \n",
            "['Joni', 'Rama', 'Meera', 'Joojh']\n",
            "List after removing element : \n",
            "Joni Meera Joojh "
          ]
        }
      ],
      "source": [
        "#delete the elements\n",
        "stuNames = ['Joni', 'Rama', 'Meera', 'Jiya', 'Joojh']\n",
        "print(\"List before removing element : \")\n",
        "for i in stuNames:\n",
        "    print(i, end = \" \")\n",
        "print(end = '\\n')\n",
        "del stuNames[3]\n",
        "print(stuNames)\n",
        "stuNames.remove(\"Rama\")\n",
        "print(\"List after removing element : \")\n",
        "for i in stuNames:\n",
        "    print(i, end = \" \")\n"
      ]
    },
    {
      "cell_type": "code",
      "execution_count": null,
      "metadata": {
        "id": "VcgHR0nt5qQc",
        "outputId": "625c2042-faed-4ca1-8a02-b599d5fee7d7"
      },
      "outputs": [
        {
          "name": "stdout",
          "output_type": "stream",
          "text": [
            "The sum of list elements is: 15\n"
          ]
        }
      ],
      "source": [
        "#Program 11.5 : Sum/Average of List\n",
        "#sum  of list\n",
        "lstOfNum = [1,2,3,4,5]\n",
        "total = 0\n",
        "for i in lstOfNum:\n",
        "    total = total + i\n",
        "print(\"The sum of list elements is:\",total)\n"
      ]
    },
    {
      "cell_type": "code",
      "execution_count": null,
      "metadata": {
        "id": "LpY9xqRH5qQc",
        "outputId": "c6223d71-1678-4bc7-b8c1-1c3b475222b9"
      },
      "outputs": [
        {
          "name": "stdout",
          "output_type": "stream",
          "text": [
            "<class 'list'>\n",
            "Average of x = 3.0\n"
          ]
        }
      ],
      "source": [
        "p = [1, 2, 3, 4, 5]\n",
        "q = [3, 4, 2, 4, 5]\n",
        "print(type(p))\n",
        "def calMean(p1):\n",
        "    return sum(p1) / len(p1)  # Using built-in functions\n",
        "\n",
        "average_x = calMean(p)\n",
        "print(\"Average of x =\", round(average_x, 2))"
      ]
    },
    {
      "cell_type": "code",
      "execution_count": null,
      "metadata": {
        "id": "tYkolUJK5qQc",
        "outputId": "a91fdbbe-0377-488c-b355-7647d1ceaef8"
      },
      "outputs": [
        {
          "name": "stdout",
          "output_type": "stream",
          "text": [
            "Average of the x = 3.0\n"
          ]
        }
      ],
      "source": [
        "list1 = [1,2,3,4,5]\n",
        "lst2 = [3,4,2,4,5]\n",
        "def calMean(list_input):\n",
        "    return sum(list_input)/len(list_input)\n",
        "average_x = calMean(list1)\n",
        "print(\"Average of the x =\", round(average_x, 2))\n"
      ]
    },
    {
      "cell_type": "code",
      "execution_count": null,
      "metadata": {
        "id": "eM6p9wow5qQd",
        "outputId": "7968770a-5996-4264-94ca-0c49ec39e5b9"
      },
      "outputs": [
        {
          "name": "stdout",
          "output_type": "stream",
          "text": [
            "5\n",
            "-2\n",
            "-2\n",
            "1\n",
            "0\n",
            "0\n",
            "[4, 4, 1, 0, 0]\n"
          ]
        },
        {
          "data": {
            "text/plain": [
              "9"
            ]
          },
          "execution_count": 5,
          "metadata": {},
          "output_type": "execute_result"
        }
      ],
      "source": [
        "#sub of two list\n",
        "sum = 0\n",
        "lst = []\n",
        "lstLenth1 = len(list1)\n",
        "print(lstLenth1)\n",
        "lstleth2 = len(lst2)\n",
        "for i in range(lstLenth1):\n",
        "    for j in range(lstleth2):\n",
        "        if i == j:\n",
        "            sum = list1[i] - lst2[j]\n",
        "            lst.append(sum * sum)\n",
        "            print(sum)\n",
        "print(lst)\n",
        "sumOfxsqure = 0\n",
        "for i in lst:\n",
        "    sumOfxsqure = sumOfxsqure + i\n",
        "sumOfxsqure"
      ]
    },
    {
      "cell_type": "code",
      "execution_count": null,
      "metadata": {
        "id": "PLxXoz5p5qQd",
        "outputId": "9b626c66-acf4-46b7-9fe7-65ce05a02b13"
      },
      "outputs": [
        {
          "name": "stdout",
          "output_type": "stream",
          "text": [
            "[1, 2, 3, 4, 5, 7, 6]\n",
            "[1, 2, 3, 4, 5, 6, 7]\n"
          ]
        }
      ],
      "source": [
        "# remove the duplicate element of the list\n",
        "lstOfNum = [1,2,1,3,3,4,5,2,7,6]\n",
        "newList = []\n",
        "for i in lstOfNum:\n",
        "    if i not in newList:\n",
        "        newList.append(i)\n",
        "print(newList)\n",
        "newList.sort()\n",
        "print(newList)\n"
      ]
    },
    {
      "cell_type": "code",
      "execution_count": null,
      "metadata": {
        "id": "uPs9n9Tx5qQd",
        "outputId": "2ba494e3-07f7-4fa9-a529-4c6f09a67dbd"
      },
      "outputs": [
        {
          "name": "stdout",
          "output_type": "stream",
          "text": [
            "The average is 18.4\n"
          ]
        }
      ],
      "source": [
        "def cal_average(e):\n",
        "    return sum(e) / len(e)\n",
        "    sum_num = 0\n",
        "    for t in e:\n",
        "        sum_num = sum_um + t\n",
        "\n",
        "    avg = sum_num / len(e)\n",
        "    return avg\n",
        "\n",
        "print(\"The average is\", cal_average([18,25,3,41,5]))\n",
        "\n",
        "\n",
        "\n",
        "\n"
      ]
    },
    {
      "cell_type": "code",
      "execution_count": null,
      "metadata": {
        "id": "eBYkrA825qQd",
        "outputId": "ecb592c8-170c-418e-e30b-25af40d99e66"
      },
      "outputs": [
        {
          "name": "stdout",
          "output_type": "stream",
          "text": [
            "Average of the list = 5\n"
          ]
        }
      ],
      "source": [
        "#Average  of list\n",
        "# Using mean()\n",
        "from statistics import mean\n",
        "def calMean(lst):\n",
        "    return mean(lst)\n",
        "lstOfNum = [1,2,3,4,5,9,8,7,6]\n",
        "average = calMean(lstOfNum)\n",
        "print(\"Average of the list =\", round(average, 2))\n",
        "\n"
      ]
    },
    {
      "cell_type": "code",
      "execution_count": null,
      "metadata": {
        "id": "Ov-f7j0k5qQe",
        "outputId": "2b2ab90c-de2b-4251-d4e4-4edb2613d5cc"
      },
      "outputs": [
        {
          "name": "stdout",
          "output_type": "stream",
          "text": [
            "Average of the list = 35.75\n"
          ]
        }
      ],
      "source": [
        "def Average(lst):\n",
        "    return sum(lst) / len(lst)\n",
        "\n",
        "# Driver Code\n",
        "lst = [15, 9, 55, 41, 35, 20, 62, 49]\n",
        "average = Average(lst)\n",
        "\n",
        "# Printing average of the list\n",
        "print(\"Average of the list =\", round(average, 2))\n"
      ]
    },
    {
      "cell_type": "code",
      "execution_count": null,
      "metadata": {
        "id": "o06ACkFn5qQe",
        "outputId": "4314e6dc-2c94-4783-8e23-050f495f0cf3"
      },
      "outputs": [
        {
          "name": "stdout",
          "output_type": "stream",
          "text": [
            "The smallest number is: 2\n"
          ]
        }
      ],
      "source": [
        "# Program 11.6 : Min/Max/Sort the list\n",
        "#Min in list\n",
        "numberLst = [13,16, 2, 9, 5, 10, 6,78,56,43,3]\n",
        "smallestNumber = min(numberLst);\n",
        "\n",
        "print(\"The smallest number is:\", smallestNumber)"
      ]
    },
    {
      "cell_type": "code",
      "execution_count": null,
      "metadata": {
        "id": "WHgzVnyP5qQe",
        "outputId": "108c3f66-dd2b-4086-cd0e-bbf68841d7c2"
      },
      "outputs": [
        {
          "name": "stdout",
          "output_type": "stream",
          "text": [
            "The largest number is: 78\n"
          ]
        }
      ],
      "source": [
        "#Max in list\n",
        "numberLst = [13,16, 2, 9, 5, 10, 6,78,56,43,3]\n",
        "largestNumber = max(numberLst);\n",
        "\n",
        "print(\"The largest number is:\", largestNumber)\n"
      ]
    },
    {
      "cell_type": "code",
      "execution_count": null,
      "metadata": {
        "id": "V3Gga5vl5qQf",
        "outputId": "6ab708ab-03c6-4b6c-f83d-3068ce7fa7dc"
      },
      "outputs": [
        {
          "name": "stdout",
          "output_type": "stream",
          "text": [
            "The sorted list is: [2, 3, 5, 6, 9, 10, 13, 16, 43, 56, 78]\n"
          ]
        }
      ],
      "source": [
        "#Sort the List\n",
        "numberLst = [13,16, 2, 9, 5, 10, 6,78,56,43,3]\n",
        "numberLst.sort();\n",
        "\n",
        "print(\"The sorted list is:\", numberLst)\n"
      ]
    },
    {
      "cell_type": "code",
      "execution_count": null,
      "metadata": {
        "id": "g38sdApi5qQf",
        "outputId": "eeaf4219-e248-4576-e9b4-94f5962ffa37"
      },
      "outputs": [
        {
          "name": "stdout",
          "output_type": "stream",
          "text": [
            "Merged list: ['Joni', 'Rama', 'Meera', 'Jiya', 'Joojh', 1, 2, 3, 4, 5]\n",
            "Merged list using + operator:['Joni', 'Rama', 'Meera', 'Jiya', 'Joojh', 1, 2, 3, 4, 5]\n"
          ]
        }
      ],
      "source": [
        "#Program 11.7 : Merge lists & select elements\n",
        "stuNames = ['Joni', 'Rama', 'Meera', 'Jiya', 'Joojh']\n",
        "stuRollNum = (1,2,3,4,5)\n",
        "stuNames.extend(stuRollNum)\n",
        "print(\"Merged list:\", stuNames)\n",
        "\n",
        "# concatenation using + operator\n",
        "names = ['Joni', 'Rama', 'Meera', 'Jiya', 'Joojh']\n",
        "rollNum = [1,2,3,4,5]\n",
        "names = names + rollNum\n",
        "print(\"Merged list using + operator:\" + str(names))"
      ]
    },
    {
      "cell_type": "code",
      "execution_count": null,
      "metadata": {
        "id": "Qma7pUM45qQg",
        "outputId": "30d184ff-951e-4054-8a2d-18cf3b789048"
      },
      "outputs": [
        {
          "name": "stdout",
          "output_type": "stream",
          "text": [
            "enter the 1st number : 2\n",
            "enter the 2nd number : 3\n",
            "enter the 3rd number : 4\n",
            "9\n"
          ]
        }
      ],
      "source": [
        "#Program 1: WAP to add three numbers and print result\n",
        "def addNum(a,b,c):\n",
        "#     if a == b == c:\n",
        "#         sum = a * 3\n",
        "    sum = a+b+c\n",
        "    return sum\n",
        "\n",
        "x=int(input(\"enter the 1st number : \"))\n",
        "y =int(input(\"enter the 2nd number : \"))\n",
        "z =int(input(\"enter the 3rd number : \"))\n",
        "addNum(x,y,z)\n",
        "print(addNum(x,y,z))\n",
        "\n",
        "\n",
        "\n"
      ]
    },
    {
      "cell_type": "code",
      "execution_count": null,
      "metadata": {
        "id": "cCe87GLg5qQg",
        "outputId": "881e2473-3ff3-4d95-9208-dd7a54ca5fa4"
      },
      "outputs": [
        {
          "name": "stdout",
          "output_type": "stream",
          "text": [
            "enter 1st string : Ritu\n",
            "enter 2st string : Rana\n",
            "enter 3st string : Chandel\n",
            "Ritu Rana Chandel \n",
            "My name is Reeta\n"
          ]
        }
      ],
      "source": [
        "#Program 2: WAP to concatenate three strings and print result\n",
        "x = input(\"enter 1st string : \")\n",
        "y = input(\"enter 2st string : \")\n",
        "z = input(\"enter 3st string : \")\n",
        "print(x, end = \" \")\n",
        "print(y, end = \" \")\n",
        "print(z, end = \" \")\n",
        "print(end = '\\n')\n",
        "\n",
        "#using + operator concatenate the three strings\n",
        "a = \"My name \"\n",
        "b = \"is \"\n",
        "c = \"Reeta\"\n",
        "a = a + b + c\n",
        "print(a)\n"
      ]
    },
    {
      "cell_type": "code",
      "execution_count": null,
      "metadata": {
        "id": "ZUIIg5-r5qQg",
        "outputId": "0a9a0b92-5bb4-44ff-c01c-f11a04f1d515"
      },
      "outputs": [
        {
          "name": "stdout",
          "output_type": "stream",
          "text": [
            "Enter 1st no: 2\n",
            "Enter 2nd no: 3\n",
            "Enter 3rd no: 4\n",
            "9\n"
          ]
        }
      ],
      "source": [
        "#Program 3: WAP to add three numbers, inputs from user and print result\n",
        "a = int(input(\"Enter 1st no: \"))\n",
        "b = int(input(\"Enter 2nd no: \"))\n",
        "c = int(input(\"Enter 3rd no: \"))\n",
        "print(a + b + c)"
      ]
    },
    {
      "cell_type": "code",
      "execution_count": null,
      "metadata": {
        "id": "jWAJq1LQ5qQg",
        "outputId": "a366b9ea-6794-4993-cf3c-b0a297a35987"
      },
      "outputs": [
        {
          "name": "stdout",
          "output_type": "stream",
          "text": [
            "Enter the First  String : welcome\n",
            "Enter the Second String : to\n",
            "Enter the Third String : my home\n",
            "The final String After Concatenation =  welcometomy home\n",
            "The final After String Concatenation with Space =  welcome to my home\n"
          ]
        }
      ],
      "source": [
        "#Program 4: WAP to concatenate three strings, inputs from user and print\n",
        "str1 = input(\"Enter the First  String : \")\n",
        "str2 = input(\"Enter the Second String : \")\n",
        "str3 = input(\"Enter the Third String : \")\n",
        "\n",
        "\n",
        "concat1 = str1 + str2+ str3\n",
        "print(\"The final String After Concatenation = \", concat1)\n",
        "concat2 = str1 + ' ' + str2 + ' ' + str3\n",
        "print(\"The final After String Concatenation with Space = \", concat2)\n"
      ]
    },
    {
      "cell_type": "code",
      "execution_count": null,
      "metadata": {
        "id": "OXF2WlIG5qQh",
        "outputId": "51d46ab5-300a-4485-ce23-3f5942f138f3"
      },
      "outputs": [
        {
          "name": "stdout",
          "output_type": "stream",
          "text": [
            "7 x 1 = 7\n",
            "7 x 2 = 14\n",
            "7 x 3 = 21\n",
            "7 x 4 = 28\n",
            "7 x 5 = 35\n",
            "7 x 6 = 42\n",
            "7 x 7 = 49\n",
            "7 x 8 = 56\n",
            "7 x 9 = 63\n",
            "7 x 10 = 70\n"
          ]
        }
      ],
      "source": [
        "#Program 5: WAP to print the table of 7, 9.\n",
        "num = 7\n",
        "for i in range(1,11):\n",
        "    print(num , 'x', i ,'=', num * i )\n"
      ]
    },
    {
      "cell_type": "code",
      "execution_count": null,
      "metadata": {
        "id": "XKuwSsQ-5qQh",
        "outputId": "eaa1813e-5181-4235-8c55-7a36d4758b77"
      },
      "outputs": [
        {
          "name": "stdout",
          "output_type": "stream",
          "text": [
            "9 x 1 = 9\n",
            "9 x 2 = 18\n",
            "9 x 3 = 27\n",
            "9 x 4 = 36\n",
            "9 x 5 = 45\n",
            "9 x 6 = 54\n",
            "9 x 7 = 63\n",
            "9 x 8 = 72\n",
            "9 x 9 = 81\n",
            "9 x 10 = 90\n"
          ]
        }
      ],
      "source": [
        "#WAP to print the table of 9\n",
        "num = 9\n",
        "for i in range(1,11):\n",
        "    print(num , 'x', i ,'=', num * i )"
      ]
    },
    {
      "cell_type": "code",
      "execution_count": null,
      "metadata": {
        "id": "Vz0kjYI-5qQi",
        "outputId": "62ebd159-ba16-488b-d66a-fde67a2e0776"
      },
      "outputs": [
        {
          "name": "stdout",
          "output_type": "stream",
          "text": [
            "Enter the number: 14\n",
            "14 x 1 = 14\n",
            "14 x 2 = 28\n",
            "14 x 3 = 42\n",
            "14 x 4 = 56\n",
            "14 x 5 = 70\n",
            "14 x 6 = 84\n",
            "14 x 7 = 98\n",
            "14 x 8 = 112\n",
            "14 x 9 = 126\n",
            "14 x 10 = 140\n"
          ]
        }
      ],
      "source": [
        "#Program 6: WAP to print the table of n and n is given by user.\n",
        "num = int(input(\"Enter the number: \"))\n",
        "\n",
        "for i in range(1, 11):\n",
        "   print(num, 'x', i, '=', num*i)"
      ]
    },
    {
      "cell_type": "code",
      "execution_count": null,
      "metadata": {
        "id": "M09bSRYq5qQi",
        "outputId": "1521dd0a-f61a-4c3e-8bbe-e7d1c86b96e1"
      },
      "outputs": [
        {
          "name": "stdout",
          "output_type": "stream",
          "text": [
            "Enter the number : 3\n",
            "3\n",
            "Sum of first  3 numbers is:  6\n"
          ]
        }
      ],
      "source": [
        "#Program 7: WAP to add all the numbers from 1 to n and n is given by user.\n",
        "num = int(input(\"Enter the number : \"))\n",
        "if num < 0:\n",
        "    print(num)\n",
        "    print(\"Enter a positive number\")\n",
        "else:\n",
        "    print(num)\n",
        "    sum = 0\n",
        "    for i in range(1,num+1,1):\n",
        "        sum = sum + i\n",
        "print(\"Sum of first \", num, \"numbers is: \", sum)\n"
      ]
    },
    {
      "cell_type": "code",
      "execution_count": null,
      "metadata": {
        "id": "0LhgM8m-5qQj",
        "outputId": "8e622837-8f8f-41ea-a18e-8547d1a8b30d"
      },
      "outputs": [
        {
          "name": "stdout",
          "output_type": "stream",
          "text": [
            "Enter first number: 3\n",
            "Enter second number: 4\n",
            "Enter third number: 6\n",
            "The greatest numer is c:  6\n"
          ]
        }
      ],
      "source": [
        "#Program 8: WAP to find max among three numbers and input from user\n",
        "a = int(input(\"Enter first number: \"))\n",
        "b = int(input(\"Enter second number: \"))\n",
        "c = int(input(\"Enter third number: \"))\n",
        "if a == b == c:\n",
        "    print(\"These numbers are equal\")\n",
        "elif a > b and a > c:\n",
        "    print(\"The greatest numer is a: \", a)\n",
        "elif b > a and b > c:\n",
        "    print(\"The greatest numer is b: \", b)\n",
        "else:\n",
        "    print(\"The greatest numer is c: \", c)\n",
        "\n",
        "\n"
      ]
    },
    {
      "cell_type": "code",
      "execution_count": null,
      "metadata": {
        "id": "Z08Sw-AI5qQj",
        "outputId": "63a004e1-5b81-4c25-e6f4-a6dfb422b67c"
      },
      "outputs": [
        {
          "name": "stdout",
          "output_type": "stream",
          "text": [
            "Enter the natural number: 8\n",
            "Sum of even numbers coming between 1 to 8 :  20\n"
          ]
        }
      ],
      "source": [
        "#Program 9: WAP to add all even numbers from 1 to n and n is given by user.\n",
        "n = int(input(\"Enter the natural number: \"))\n",
        "sum = 0\n",
        "for i in range(1,n+1):\n",
        "    if i%2 == 0:\n",
        "        sum = sum + i\n",
        "print(\"Sum of even numbers coming between 1 to\", n, \": \",sum)\n",
        ""
      ]
    },
    {
      "cell_type": "code",
      "execution_count": null,
      "metadata": {
        "id": "7CFnCYl55qQj",
        "outputId": "7054e7c7-ad30-4e6c-9af4-10920c7f9479"
      },
      "outputs": [
        {
          "name": "stdout",
          "output_type": "stream",
          "text": [
            "Enter the natural numbers: 3\n",
            "sum of all prime numbers upto 3 is :  5\n"
          ]
        }
      ],
      "source": [
        "#Program 10: WAP to add all prime numbers from 1 to n and n is given by user.\n",
        "n = int(input(\"Enter the natural numbers: \"))\n",
        "sum = 0\n",
        "x = 0\n",
        "if n > 1:\n",
        "    for i in range(2,n+1):\n",
        "        #print(\"i\",i)\n",
        "        for x in range(2,i):\n",
        "            #print(\"x\",x)\n",
        "            if i% x == 0:\n",
        "                x = i\n",
        "                #print(\"i\", i ,\"is not a prime no\")\n",
        "                break\n",
        "        if x != i:\n",
        "            #print(\"iii\", i ,\"is a prime no\")\n",
        "            sum = sum + i\n",
        "\n",
        "\n",
        "else:\n",
        "    print(\"number shuld be greater tha 1\")\n",
        "\n",
        "print(\"sum of all prime numbers upto\",n ,\"is : \", sum)\n"
      ]
    },
    {
      "cell_type": "code",
      "execution_count": null,
      "metadata": {
        "id": "2IQJ1l6H5qQj",
        "outputId": "70d47438-39eb-4cc7-9cb4-031123970460"
      },
      "outputs": [
        {
          "name": "stdout",
          "output_type": "stream",
          "text": [
            "Enter the natural numbers: 8\n",
            "Sum of up to 8 odd numbers is 16\n"
          ]
        }
      ],
      "source": [
        "#Program: WAP to add all odd numbers from 1 to n and n is given by user.\n",
        "n = int(input(\"Enter the natural numbers: \"))\n",
        "sum = 0\n",
        "for i in range(1,n+1):\n",
        "    if i%2 != 0:\n",
        "        sum = sum + i\n",
        "print(\"Sum of up to\",n,\"odd numbers is\",sum)\n"
      ]
    },
    {
      "cell_type": "code",
      "execution_count": null,
      "metadata": {
        "id": "K48kthhB5qQk",
        "outputId": "8422557f-b961-42c7-bca5-20eed1d424e8"
      },
      "outputs": [
        {
          "name": "stdout",
          "output_type": "stream",
          "text": [
            "Enter any number : 9\n",
            "The sum of  9 odd numbers is :  25\n"
          ]
        }
      ],
      "source": [
        "#Program 11: WAP using function that add all odd numbers from 1 to n; n given by user\n",
        "def addOddNo(n):\n",
        "    sum = 0\n",
        "    for i in range(1, n+1):\n",
        "        if i % 2 != 0:\n",
        "            sum = sum + i\n",
        "    return(sum)\n",
        "num = int(input(\"Enter any number : \"))\n",
        "#addOddNo(num)\n",
        "print(\"The sum of \",num, \"odd numbers is : \", addOddNo(num))\n"
      ]
    },
    {
      "cell_type": "code",
      "execution_count": null,
      "metadata": {
        "id": "lWGmBnWo5qQk",
        "outputId": "058c03de-2173-4173-e4d8-0a1716f7e4e4"
      },
      "outputs": [
        {
          "name": "stdout",
          "output_type": "stream",
          "text": [
            "Enter any number : 4\n",
            "The sum of  4 even numbers is :  6\n"
          ]
        }
      ],
      "source": [
        "#Program 12: WAP using function that add all even numbers from 1 to n; n given by user.\n",
        "def addEvnNo(n):\n",
        "    sum = 0\n",
        "    for i in range(1,n+1):\n",
        "        if i % 2 == 0:\n",
        "            sum = sum +i\n",
        "    return(sum)\n",
        "num = int(input(\"Enter any number : \"))\n",
        "print(\"The sum of \",num, \"even numbers is : \", addEvnNo(num))\n",
        "\n",
        "\n",
        "\n"
      ]
    },
    {
      "cell_type": "code",
      "execution_count": null,
      "metadata": {
        "id": "RGtFNU3O5qQl",
        "outputId": "82e015a3-2c26-4088-c9d7-631858f60225"
      },
      "outputs": [
        {
          "name": "stdout",
          "output_type": "stream",
          "text": [
            "Enter the natural numbers: 5\n",
            "2 is a prime no\n",
            "3 is a prime no\n",
            "5 is a prime no\n",
            "sum of all prime numbers upto 5 is :  10\n"
          ]
        }
      ],
      "source": [
        "#Program 13: WAP using function that add all prime numbers from 1 to n; n given by user.\n",
        "\n",
        "def addPrimeNm(n):\n",
        "    sum = 0\n",
        "    x = 0\n",
        "    if n > 1:\n",
        "        for i in range(2,n+1):\n",
        "            #print(\"i\",i)\n",
        "            for x in range(2,i):\n",
        "                #print(\"x\",x)\n",
        "                if i% x == 0:\n",
        "                    x = i\n",
        "                #print(\"i\", i ,\"is not a prime no\")\n",
        "                    break\n",
        "            if x != i:\n",
        "                print( i ,\"is a prime no\")\n",
        "                sum = sum + i\n",
        "                #return(sum)\n",
        "\n",
        "    else:\n",
        "        print(\"number shuld be greater tha 1\")\n",
        "    return(sum)\n",
        "num = int(input(\"Enter the natural numbers: \"))\n",
        "print(\"sum of all prime numbers upto\",num ,\"is : \", addPrimeNm(num))\n"
      ]
    },
    {
      "cell_type": "code",
      "execution_count": null,
      "metadata": {
        "id": "va88KY3u5qQl",
        "outputId": "744877cc-7e73-4d41-e1a7-9b6fed9390a8"
      },
      "outputs": [
        {
          "name": "stdout",
          "output_type": "stream",
          "text": [
            "Enter the no. of element you want to enter in the list : 3\n",
            "Enter the int element you in the list 2\n",
            "Enter the int element you in the list 3\n",
            "Enter the int element you in the list 3\n",
            "Enter the int element you in the list 4\n",
            "[2, 3, 3, 4]\n",
            "Enter any number by which want to mutiply : 4\n",
            "[8, 12, 12, 16]\n"
          ]
        }
      ],
      "source": [
        "#Program 14: WAP to multiply all elements of list by a constant\n",
        "lst = []\n",
        "\n",
        "lstLength = int(input(\"Enter the no. of element you want to enter in the list : \"))\n",
        "for i in range(0,lstLength + 1 ):\n",
        "    lst.append(int(input(\"Enter the int element you in the list \")))\n",
        "print(lst)\n",
        "num = int(input(\"Enter any number by which want to mutiply : \"))\n",
        "lstLength = len(lst)\n",
        "for x in range(lstLength) :\n",
        "    lst[x] = num * lst[x]\n",
        "print(lst)\n",
        "# for i in lst:\n",
        "#     print(i)\n",
        "# print()\n",
        "\n"
      ]
    },
    {
      "cell_type": "code",
      "execution_count": null,
      "metadata": {
        "id": "2dQ8RX7g5qQm",
        "outputId": "b21ba626-f54b-45fb-efca-803eb0d63117"
      },
      "outputs": [
        {
          "name": "stdout",
          "output_type": "stream",
          "text": [
            "Bob\n",
            "Dev\n"
          ]
        }
      ],
      "source": [
        "#nested dictionary\n",
        "D = {'emp1': {'name': 'Bob','job': 'Mgr'},\n",
        "     'emp2': {'name': 'Kim', 'job': 'Dev'},\n",
        "     'emp3': {'name': 'Sam', 'job': 'Dev'}}\n",
        "\n",
        "print(D['emp1']['name'])\n",
        "# Prints Bob\n",
        "\n",
        "print(D['emp2']['job'])\n",
        "# Prints Dev\n"
      ]
    },
    {
      "cell_type": "code",
      "execution_count": null,
      "metadata": {
        "id": "giJS6W0A5qQm",
        "outputId": "1b63e5f2-2457-45c6-94e3-7ec4a5c96ee7"
      },
      "outputs": [
        {
          "name": "stdout",
          "output_type": "stream",
          "text": [
            "5/3\n"
          ]
        }
      ],
      "source": [
        "from fractions import Fraction\n",
        "a = 5\n",
        "b=3\n",
        "print(Fraction(a,b))"
      ]
    },
    {
      "cell_type": "code",
      "execution_count": null,
      "metadata": {
        "id": "2Hae8JEI5qQm",
        "outputId": "f68b85d5-6c25-4af9-b213-9528f60fceda"
      },
      "outputs": [
        {
          "name": "stdout",
          "output_type": "stream",
          "text": [
            "Enter the number of rows: 3\n",
            "Enter the number of columns: 3\n",
            "[0, 0, 0]\n",
            "[0, 0, 0]\n",
            "[0, 0, 0]\n"
          ]
        }
      ],
      "source": [
        "def create_matrix(rows, columns):\n",
        "    # Create a 2D matrix with all elements set to 0\n",
        "    matrix = [[0 for _ in range(columns)] for _ in range(rows)]\n",
        "\n",
        "    # Assign the elements of the first row to each row of the matrix\n",
        "    for i in range(rows):\n",
        "        for j in range(columns):\n",
        "            matrix[i][j] = matrix[0][j]\n",
        "\n",
        "    return matrix\n",
        "\n",
        "def main():\n",
        "    try:\n",
        "        # Get the number of rows and columns from the user\n",
        "        rows = int(input(\"Enter the number of rows: \"))\n",
        "        columns = int(input(\"Enter the number of columns: \"))\n",
        "\n",
        "        # Create the matrix\n",
        "        matrix = create_matrix(rows, columns)\n",
        "\n",
        "        # Print the matrix\n",
        "        for row in matrix:\n",
        "            print(row)\n",
        "\n",
        "    except ValueError:\n",
        "        print(\"Invalid input. Please enter valid integers for the number of rows and columns.\")\n",
        "\n",
        "if __name__ == \"__main__\":\n",
        "    main()"
      ]
    }
  ],
  "metadata": {
    "kernelspec": {
      "display_name": "Python 3 (ipykernel)",
      "language": "python",
      "name": "python3"
    },
    "language_info": {
      "codemirror_mode": {
        "name": "ipython",
        "version": 3
      },
      "file_extension": ".py",
      "mimetype": "text/x-python",
      "name": "python",
      "nbconvert_exporter": "python",
      "pygments_lexer": "ipython3",
      "version": "3.11.5"
    },
    "colab": {
      "provenance": []
    }
  },
  "nbformat": 4,
  "nbformat_minor": 0
}