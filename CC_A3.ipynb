{
  "nbformat": 4,
  "nbformat_minor": 0,
  "metadata": {
    "colab": {
      "provenance": []
    },
    "kernelspec": {
      "name": "python3",
      "display_name": "Python 3"
    },
    "language_info": {
      "name": "python"
    }
  },
  "cells": [
    {
      "cell_type": "markdown",
      "source": [
        "Q1.Create a dataset as follow in the table"
      ],
      "metadata": {
        "id": "DTn63moTN7za"
      }
    },
    {
      "cell_type": "code",
      "execution_count": 2,
      "metadata": {
        "colab": {
          "base_uri": "https://localhost:8080/"
        },
        "id": "BIcHNqLMNdje",
        "outputId": "43c5a673-f631-417a-ae0f-8dba98f72924"
      },
      "outputs": [
        {
          "output_type": "stream",
          "name": "stdout",
          "text": [
            "{'Tid': 1, 'Refund': 'Yes', 'Marital Status': 'Single', 'Taxable Income': '125K', 'Cheat': 'No'}\n",
            "{'Tid': 2, 'Refund': 'No', 'Marital Status': 'Married', 'Taxable Income': '100K', 'Cheat': 'No'}\n",
            "{'Tid': 3, 'Refund': 'No', 'Marital Status': 'Single', 'Taxable Income': '70K', 'Cheat': 'No'}\n",
            "{'Tid': 4, 'Refund': 'No', 'Marital Status': 'Married', 'Taxable Income': '120K', 'Cheat': 'No'}\n",
            "{'Tid': 5, 'Refund': 'Yes', 'Marital Status': 'Divorced', 'Taxable Income': '95K', 'Cheat': 'Yes'}\n",
            "{'Tid': 6, 'Refund': 'No', 'Marital Status': 'Married', 'Taxable Income': '60K', 'Cheat': 'No'}\n",
            "{'Tid': 7, 'Refund': 'Yes', 'Marital Status': 'Divorced', 'Taxable Income': '220K', 'Cheat': 'No'}\n",
            "{'Tid': 8, 'Refund': 'No', 'Marital Status': 'Single', 'Taxable Income': '85K', 'Cheat': 'Yes'}\n",
            "{'Tid': 9, 'Refund': 'No', 'Marital Status': 'Married', 'Taxable Income': '75K', 'Cheat': 'No'}\n",
            "{'Tid': 10, 'Refund': 'No', 'Marital Status': 'Single', 'Taxable Income': '90K', 'Cheat': 'Yes'}\n"
          ]
        }
      ],
      "source": [
        "dataset = [\n",
        "    {\"Tid\": 1, \"Refund\": \"Yes\", \"Marital Status\": \"Single\", \"Taxable Income\": \"125K\", \"Cheat\": \"No\"},\n",
        "    {\"Tid\": 2, \"Refund\": \"No\", \"Marital Status\": \"Married\", \"Taxable Income\": \"100K\", \"Cheat\": \"No\"},\n",
        "    {\"Tid\": 3, \"Refund\": \"No\", \"Marital Status\": \"Single\", \"Taxable Income\": \"70K\", \"Cheat\": \"No\"},\n",
        "    {\"Tid\": 4, \"Refund\": \"No\", \"Marital Status\": \"Married\", \"Taxable Income\": \"120K\", \"Cheat\": \"No\"},\n",
        "    {\"Tid\": 5, \"Refund\": \"Yes\", \"Marital Status\": \"Divorced\", \"Taxable Income\": \"95K\", \"Cheat\": \"Yes\"},\n",
        "    {\"Tid\": 6, \"Refund\": \"No\", \"Marital Status\": \"Married\", \"Taxable Income\": \"60K\", \"Cheat\": \"No\"},\n",
        "    {\"Tid\": 7, \"Refund\": \"Yes\", \"Marital Status\": \"Divorced\", \"Taxable Income\": \"220K\", \"Cheat\": \"No\"},\n",
        "    {\"Tid\": 8, \"Refund\": \"No\", \"Marital Status\": \"Single\", \"Taxable Income\": \"85K\", \"Cheat\": \"Yes\"},\n",
        "    {\"Tid\": 9, \"Refund\": \"No\", \"Marital Status\": \"Married\", \"Taxable Income\": \"75K\", \"Cheat\": \"No\"},\n",
        "    {\"Tid\": 10, \"Refund\": \"No\", \"Marital Status\": \"Single\", \"Taxable Income\": \"90K\", \"Cheat\": \"Yes\"}\n",
        "]\n",
        "\n",
        "for record in dataset:\n",
        "    print(record)\n"
      ]
    },
    {
      "cell_type": "markdown",
      "source": [
        "Q2.From the above table that you have created, locate row 0, 4, 7 and 8 using DataFrame."
      ],
      "metadata": {
        "id": "4aclrhLROiTk"
      }
    },
    {
      "cell_type": "code",
      "source": [
        "import pandas as pd\n",
        "data = [\n",
        "    {\"Tid\": 1, \"Refund\": \"Yes\", \"Marital Status\": \"Single\", \"Taxable Income\": \"125K\", \"Cheat\": \"No\"},\n",
        "    {\"Tid\": 2, \"Refund\": \"No\", \"Marital Status\": \"Married\", \"Taxable Income\": \"100K\", \"Cheat\": \"No\"},\n",
        "    {\"Tid\": 3, \"Refund\": \"No\", \"Marital Status\": \"Single\", \"Taxable Income\": \"70K\", \"Cheat\": \"No\"},\n",
        "    {\"Tid\": 4, \"Refund\": \"No\", \"Marital Status\": \"Married\", \"Taxable Income\": \"120K\", \"Cheat\": \"No\"},\n",
        "    {\"Tid\": 5, \"Refund\": \"Yes\", \"Marital Status\": \"Divorced\", \"Taxable Income\": \"95K\", \"Cheat\": \"Yes\"},\n",
        "    {\"Tid\": 6, \"Refund\": \"No\", \"Marital Status\": \"Married\", \"Taxable Income\": \"60K\", \"Cheat\": \"No\"},\n",
        "    {\"Tid\": 7, \"Refund\": \"Yes\", \"Marital Status\": \"Divorced\", \"Taxable Income\": \"220K\", \"Cheat\": \"No\"},\n",
        "    {\"Tid\": 8, \"Refund\": \"No\", \"Marital Status\": \"Single\", \"Taxable Income\": \"85K\", \"Cheat\": \"Yes\"},\n",
        "    {\"Tid\": 9, \"Refund\": \"No\", \"Marital Status\": \"Married\", \"Taxable Income\": \"75K\", \"Cheat\": \"No\"},\n",
        "    {\"Tid\": 10, \"Refund\": \"No\", \"Marital Status\": \"Single\", \"Taxable Income\": \"90K\", \"Cheat\": \"Yes\"}\n",
        "]\n",
        "\n",
        "df = pd.DataFrame(data)\n",
        "selected_rows = df.iloc[[0, 4, 7, 8]]\n",
        "print(selected_rows)\n"
      ],
      "metadata": {
        "colab": {
          "base_uri": "https://localhost:8080/"
        },
        "id": "B6RV7-OEOihC",
        "outputId": "255b7344-8de6-404a-db66-d9f3d9e5764c"
      },
      "execution_count": 1,
      "outputs": [
        {
          "output_type": "stream",
          "name": "stdout",
          "text": [
            "   Tid Refund Marital Status Taxable Income Cheat\n",
            "0    1    Yes         Single           125K    No\n",
            "4    5    Yes       Divorced            95K   Yes\n",
            "7    8     No         Single            85K   Yes\n",
            "8    9     No        Married            75K    No\n"
          ]
        }
      ]
    },
    {
      "cell_type": "markdown",
      "source": [
        "Q3.Navigate the DataFrame and do the following task for the table created in question 1:\n",
        "1. Select row from index 3 to 7.\n",
        "2. Select row from index 4 to 8, and column 2 to 4.\n",
        "3. Select all rows with column index 1 to 3 (include index 3 during selection)."
      ],
      "metadata": {
        "id": "htCw6CPfPuEi"
      }
    },
    {
      "cell_type": "code",
      "source": [
        "import pandas as pd\n",
        "data = [\n",
        "    {\"Tid\": 1, \"Refund\": \"Yes\", \"Marital Status\": \"Single\", \"Taxable Income\": \"125K\", \"Cheat\": \"No\"},\n",
        "    {\"Tid\": 2, \"Refund\": \"No\", \"Marital Status\": \"Married\", \"Taxable Income\": \"100K\", \"Cheat\": \"No\"},\n",
        "    {\"Tid\": 3, \"Refund\": \"No\", \"Marital Status\": \"Single\", \"Taxable Income\": \"70K\", \"Cheat\": \"No\"},\n",
        "    {\"Tid\": 4, \"Refund\": \"No\", \"Marital Status\": \"Married\", \"Taxable Income\": \"120K\", \"Cheat\": \"No\"},\n",
        "    {\"Tid\": 5, \"Refund\": \"Yes\", \"Marital Status\": \"Divorced\", \"Taxable Income\": \"95K\", \"Cheat\": \"Yes\"},\n",
        "    {\"Tid\": 6, \"Refund\": \"No\", \"Marital Status\": \"Married\", \"Taxable Income\": \"60K\", \"Cheat\": \"No\"},\n",
        "    {\"Tid\": 7, \"Refund\": \"Yes\", \"Marital Status\": \"Divorced\", \"Taxable Income\": \"220K\", \"Cheat\": \"No\"},\n",
        "    {\"Tid\": 8, \"Refund\": \"No\", \"Marital Status\": \"Single\", \"Taxable Income\": \"85K\", \"Cheat\": \"Yes\"},\n",
        "    {\"Tid\": 9, \"Refund\": \"No\", \"Marital Status\": \"Married\", \"Taxable Income\": \"75K\", \"Cheat\": \"No\"},\n",
        "    {\"Tid\": 10, \"Refund\": \"No\", \"Marital Status\": \"Single\", \"Taxable Income\": \"90K\", \"Cheat\": \"Yes\"}\n",
        "]\n",
        "df = pd.DataFrame(data)\n",
        "\n",
        "rows_3_to_7 = df.iloc[3:8]\n",
        "print(\"Rows from index 3 to 7:\\n\", rows_3_to_7)\n",
        "\n",
        "rows_4_to_8_cols_2_to_4 = df.iloc[4:9, 2:5]\n",
        "print(\"\\nRows 4 to 8, Columns 2 to 4:\\n\", rows_4_to_8_cols_2_to_4)\n",
        "\n",
        "cols_1_to_3_all_rows = df.iloc[:, 1:4]\n",
        "print(\"\\nAll rows, columns 1 to 3:\\n\", cols_1_to_3_all_rows)\n"
      ],
      "metadata": {
        "id": "bvHThUW0PueN"
      },
      "execution_count": null,
      "outputs": []
    },
    {
      "cell_type": "markdown",
      "source": [
        "Q4. Read a csv file and display its first five rows.\n",
        "Note-: Download dataset from https://www.kaggle.com/datasets/uciml/iris)"
      ],
      "metadata": {
        "id": "PPVDXJWhQVWq"
      }
    },
    {
      "cell_type": "code",
      "source": [
        "import pandas as pd\n",
        "# Load the dataset (make sure you download 'Iris.csv' from Kaggle and give the correct path)\n",
        "df = pd.read_csv(\"Iris.csv\")\n",
        "print(df.head())\n"
      ],
      "metadata": {
        "id": "_zu4znvZQViI"
      },
      "execution_count": null,
      "outputs": []
    },
    {
      "cell_type": "markdown",
      "source": [
        "Q5. From the csv file (uploaded in the Q.4) delete row 4, and delete column 3. Display the\n",
        "result."
      ],
      "metadata": {
        "id": "nJ2JokQmQxfY"
      }
    },
    {
      "cell_type": "code",
      "source": [
        "import pandas as pd\n",
        "df = pd.read_csv(\"Iris.csv\")\n",
        "df = df.drop(index=4)\n",
        "df = df.drop(df.columns[3], axis=1)\n",
        "print(df.head(10))"
      ],
      "metadata": {
        "id": "bMTcCJNZQxv_"
      },
      "execution_count": null,
      "outputs": []
    },
    {
      "cell_type": "markdown",
      "source": [
        "Q6.Create a sample dataset (employees.csv) containing information about employees in\n",
        "a company.\n",
        "WAP to determine the following using dataset in Q6:\n",
        "a) Shape (number of rows and columns) of the DataFrame.\n",
        "b) Summary of the DataFrame that includes the data types and non-null counts for\n",
        "each column.\n",
        "c) Generate descriptive statistics.\n",
        "d) Display the first 5 rows and last 3 rows of the dataset.\n",
        "e) Calculate the following statistics from the dataset:\n",
        "i. The average salary of employees.\n",
        "ii. The total bonus paid to all employees.\n",
        "iii. The youngest employee's age.\n",
        "iv. The highest performance rating.\n",
        "f) Sort the DataFrame by the Salary column in descending order.\n",
        "g) Add a new column that categorizes employees based on their performance rating:\n",
        "i. Excellent for ratings >= 4.5\n",
        "ii. Good for ratings >= 4.0 but < 4.5\n",
        "iii. Average for ratings < 4.0\n",
        "h) Identify missing values in the DataFrame.\n",
        "i) Rename the Employee_ID column to ID.\n",
        "j) Find all employees who:\n",
        "i. Have more than 5 years of experience.\n",
        "ii. Belong to the IT department.\n",
        "k) Modify the dataset by adding a new column, Tax, which deducts 10% of the\n",
        "Salary.\n",
        "l) Save the modified DataFrame (with added columns) to a new CSV file."
      ],
      "metadata": {
        "id": "4a1B4lv1RUe_"
      }
    },
    {
      "cell_type": "code",
      "source": [
        "import pandas as pd\n",
        "data = {\n",
        "    'Employee_ID': [101, 102, 103, 104, 105],\n",
        "    'Name': ['Alice', 'Bob', 'Charlie', 'Diana', 'Edward'],\n",
        "    'Department': ['HR', 'IT', 'IT', 'Marketing', 'Sales'],\n",
        "    'Age': [29, 34, 41, 28, 38],\n",
        "    'Salary': [50000, 70000, 65000, 55000, 60000],\n",
        "    'Years_of_Experience': [4, 8, 10, 3, 12],\n",
        "    'Joining_Date': ['2020-03-15', '2017-07-19', '2013-06-01', '2021-02-10', '2010-11-25'],\n",
        "    'Gender': ['Female', 'Male', 'Male', 'Female', 'Male'],\n",
        "    'Bonus': [5000, 7000, 6000, 4500, 3000],\n",
        "    'Rating': [4.5, 4.0, 3.8, 4.7, 3.5]\n",
        "}\n",
        "df = pd.DataFrame(data)\n",
        "\n",
        "print(\"a) Shape:\", df.shape)\n",
        "\n",
        "print(\"\\nb) Summary:\")\n",
        "print(df.info())\n",
        "\n",
        "print(\"\\nc) Descriptive Statistics:\")\n",
        "print(df.describe())\n",
        "\n",
        "print(\"\\nd) First 5 Rows:\")\n",
        "print(df.head())\n",
        "\n",
        "print(\"\\nLast 3 Rows:\")\n",
        "print(df.tail(3))\n",
        "\n",
        "print(\"\\ne) Calculated Statistics:\")\n",
        "print(\"i. Average Salary:\", df['Salary'].mean())\n",
        "print(\"ii. Total Bonus:\", df['Bonus'].sum())\n",
        "print(\"iii. Youngest Employee Age:\", df['Age'].min())\n",
        "print(\"iv. Highest Rating:\", df['Rating'].max())\n",
        "\n",
        "print(\"\\nf) Sorted by Salary (Descending):\")\n",
        "print(df.sort_values(by='Salary', ascending=False))\n",
        "\n",
        "def performance_category(rating):\n",
        "    if rating >= 4.5:\n",
        "        return \"Excellent\"\n",
        "    elif rating >= 4.0:\n",
        "        return \"Good\"\n",
        "    else:\n",
        "        return \"Average\"\n",
        "\n",
        "df['Performance'] = df['Rating'].apply(performance_category)\n",
        "print(\"\\ng) DataFrame with Performance Category:\")\n",
        "print(df[['Name', 'Rating', 'Performance']])\n",
        "\n",
        "print(\"\\nh) Missing Values:\")\n",
        "print(df.isnull().sum())\n",
        "\n",
        "df.rename(columns={'Employee_ID': 'ID'}, inplace=True)\n",
        "print(\"\\ni) Renamed Column:\")\n",
        "print(df.columns)\n",
        "\n",
        "filtered = df[(df['Years_of_Experience'] > 5) & (df['Department'] == 'IT')]\n",
        "print(\"\\nj) Employees with >5 years experience in IT:\")\n",
        "print(filtered)\n",
        "\n",
        "df['Tax'] = df['Salary'] * 0.10\n",
        "print(\"\\nk) DataFrame with Tax Column:\")\n",
        "print(df[['Name', 'Salary', 'Tax']])\n",
        "\n",
        "df.to_csv(\"modified_employees.csv\", index=False)\n",
        "print(\"\\nl) Saved modified DataFrame to 'modified_employees.csv'\")\n"
      ],
      "metadata": {
        "colab": {
          "base_uri": "https://localhost:8080/"
        },
        "id": "E6Gn2kLWRUr6",
        "outputId": "25f6987f-b916-4d16-aaf2-128ec2fe167c"
      },
      "execution_count": 3,
      "outputs": [
        {
          "output_type": "stream",
          "name": "stdout",
          "text": [
            "a) Shape: (5, 10)\n",
            "\n",
            "b) Summary:\n",
            "<class 'pandas.core.frame.DataFrame'>\n",
            "RangeIndex: 5 entries, 0 to 4\n",
            "Data columns (total 10 columns):\n",
            " #   Column               Non-Null Count  Dtype  \n",
            "---  ------               --------------  -----  \n",
            " 0   Employee_ID          5 non-null      int64  \n",
            " 1   Name                 5 non-null      object \n",
            " 2   Department           5 non-null      object \n",
            " 3   Age                  5 non-null      int64  \n",
            " 4   Salary               5 non-null      int64  \n",
            " 5   Years_of_Experience  5 non-null      int64  \n",
            " 6   Joining_Date         5 non-null      object \n",
            " 7   Gender               5 non-null      object \n",
            " 8   Bonus                5 non-null      int64  \n",
            " 9   Rating               5 non-null      float64\n",
            "dtypes: float64(1), int64(5), object(4)\n",
            "memory usage: 532.0+ bytes\n",
            "None\n",
            "\n",
            "c) Descriptive Statistics:\n",
            "       Employee_ID        Age       Salary  Years_of_Experience        Bonus  \\\n",
            "count     5.000000   5.000000      5.00000             5.000000     5.000000   \n",
            "mean    103.000000  34.000000  60000.00000             7.400000  5100.000000   \n",
            "std       1.581139   5.612486   7905.69415             3.847077  1516.575089   \n",
            "min     101.000000  28.000000  50000.00000             3.000000  3000.000000   \n",
            "25%     102.000000  29.000000  55000.00000             4.000000  4500.000000   \n",
            "50%     103.000000  34.000000  60000.00000             8.000000  5000.000000   \n",
            "75%     104.000000  38.000000  65000.00000            10.000000  6000.000000   \n",
            "max     105.000000  41.000000  70000.00000            12.000000  7000.000000   \n",
            "\n",
            "         Rating  \n",
            "count  5.000000  \n",
            "mean   4.100000  \n",
            "std    0.494975  \n",
            "min    3.500000  \n",
            "25%    3.800000  \n",
            "50%    4.000000  \n",
            "75%    4.500000  \n",
            "max    4.700000  \n",
            "\n",
            "d) First 5 Rows:\n",
            "   Employee_ID     Name Department  Age  Salary  Years_of_Experience  \\\n",
            "0          101    Alice         HR   29   50000                    4   \n",
            "1          102      Bob         IT   34   70000                    8   \n",
            "2          103  Charlie         IT   41   65000                   10   \n",
            "3          104    Diana  Marketing   28   55000                    3   \n",
            "4          105   Edward      Sales   38   60000                   12   \n",
            "\n",
            "  Joining_Date  Gender  Bonus  Rating  \n",
            "0   2020-03-15  Female   5000     4.5  \n",
            "1   2017-07-19    Male   7000     4.0  \n",
            "2   2013-06-01    Male   6000     3.8  \n",
            "3   2021-02-10  Female   4500     4.7  \n",
            "4   2010-11-25    Male   3000     3.5  \n",
            "\n",
            "Last 3 Rows:\n",
            "   Employee_ID     Name Department  Age  Salary  Years_of_Experience  \\\n",
            "2          103  Charlie         IT   41   65000                   10   \n",
            "3          104    Diana  Marketing   28   55000                    3   \n",
            "4          105   Edward      Sales   38   60000                   12   \n",
            "\n",
            "  Joining_Date  Gender  Bonus  Rating  \n",
            "2   2013-06-01    Male   6000     3.8  \n",
            "3   2021-02-10  Female   4500     4.7  \n",
            "4   2010-11-25    Male   3000     3.5  \n",
            "\n",
            "e) Calculated Statistics:\n",
            "i. Average Salary: 60000.0\n",
            "ii. Total Bonus: 25500\n",
            "iii. Youngest Employee Age: 28\n",
            "iv. Highest Rating: 4.7\n",
            "\n",
            "f) Sorted by Salary (Descending):\n",
            "   Employee_ID     Name Department  Age  Salary  Years_of_Experience  \\\n",
            "1          102      Bob         IT   34   70000                    8   \n",
            "2          103  Charlie         IT   41   65000                   10   \n",
            "4          105   Edward      Sales   38   60000                   12   \n",
            "3          104    Diana  Marketing   28   55000                    3   \n",
            "0          101    Alice         HR   29   50000                    4   \n",
            "\n",
            "  Joining_Date  Gender  Bonus  Rating  \n",
            "1   2017-07-19    Male   7000     4.0  \n",
            "2   2013-06-01    Male   6000     3.8  \n",
            "4   2010-11-25    Male   3000     3.5  \n",
            "3   2021-02-10  Female   4500     4.7  \n",
            "0   2020-03-15  Female   5000     4.5  \n",
            "\n",
            "g) DataFrame with Performance Category:\n",
            "      Name  Rating Performance\n",
            "0    Alice     4.5   Excellent\n",
            "1      Bob     4.0        Good\n",
            "2  Charlie     3.8     Average\n",
            "3    Diana     4.7   Excellent\n",
            "4   Edward     3.5     Average\n",
            "\n",
            "h) Missing Values:\n",
            "Employee_ID            0\n",
            "Name                   0\n",
            "Department             0\n",
            "Age                    0\n",
            "Salary                 0\n",
            "Years_of_Experience    0\n",
            "Joining_Date           0\n",
            "Gender                 0\n",
            "Bonus                  0\n",
            "Rating                 0\n",
            "Performance            0\n",
            "dtype: int64\n",
            "\n",
            "i) Renamed Column:\n",
            "Index(['ID', 'Name', 'Department', 'Age', 'Salary', 'Years_of_Experience',\n",
            "       'Joining_Date', 'Gender', 'Bonus', 'Rating', 'Performance'],\n",
            "      dtype='object')\n",
            "\n",
            "j) Employees with >5 years experience in IT:\n",
            "    ID     Name Department  Age  Salary  Years_of_Experience Joining_Date  \\\n",
            "1  102      Bob         IT   34   70000                    8   2017-07-19   \n",
            "2  103  Charlie         IT   41   65000                   10   2013-06-01   \n",
            "\n",
            "  Gender  Bonus  Rating Performance  \n",
            "1   Male   7000     4.0        Good  \n",
            "2   Male   6000     3.8     Average  \n",
            "\n",
            "k) DataFrame with Tax Column:\n",
            "      Name  Salary     Tax\n",
            "0    Alice   50000  5000.0\n",
            "1      Bob   70000  7000.0\n",
            "2  Charlie   65000  6500.0\n",
            "3    Diana   55000  5500.0\n",
            "4   Edward   60000  6000.0\n",
            "\n",
            "l) Saved modified DataFrame to 'modified_employees.csv'\n"
          ]
        }
      ]
    }
  ]
}