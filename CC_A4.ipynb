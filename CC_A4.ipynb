{
  "nbformat": 4,
  "nbformat_minor": 0,
  "metadata": {
    "colab": {
      "provenance": []
    },
    "kernelspec": {
      "name": "python3",
      "display_name": "Python 3"
    },
    "language_info": {
      "name": "python"
    }
  },
  "cells": [
    {
      "cell_type": "markdown",
      "source": [
        "Q1.Write a program to create a NumPy 1D-array with 5 elements and perform basic\n",
        "operations like:\n",
        "a) Addition of 2 in all the element\n",
        "b) Multiply 3 with all the elements\n",
        "c) Divide every element by 2"
      ],
      "metadata": {
        "id": "f0rsMTX0S5Yw"
      }
    },
    {
      "cell_type": "code",
      "execution_count": null,
      "metadata": {
        "id": "TglB0chzSydJ"
      },
      "outputs": [],
      "source": [
        "import numpy as np\n",
        "arr = np.array([10, 20, 30, 40, 50])\n",
        "\n",
        "arr_add_2 = arr + 2\n",
        "print(f\"Array after adding 2 to each element: {arr_add_2}\")\n",
        "\n",
        "arr_multiply_3 = arr * 3\n",
        "print(f\"Array after multiplying each element by 3: {arr_multiply_3}\")\n",
        "\n",
        "arr_divide_2 = arr / 2\n",
        "print(f\"Array after dividing each element by 2: {arr_divide_2}\")"
      ]
    },
    {
      "cell_type": "markdown",
      "source": [
        "Q2.Questions on Basic NumPy Array:\n",
        "a) Reverse the NumPy array: arr = np.array([1, 2, 3, 6, 4, 5])\n",
        "b) Find the most frequent value and their indice(s) in the following arrays:\n",
        "i. x = np.array([1,2,3,4,5,1,2,1,1,1])\n",
        "ii. y = np.array([1, 1, 1, 2, 3, 4, 2, 4, 3, 3, ])"
      ],
      "metadata": {
        "id": "PnGA4AC-Tvfs"
      }
    },
    {
      "cell_type": "code",
      "source": [
        "import numpy as np\n",
        "from collections import Counter\n",
        "\n",
        "arr = np.array([1, 2, 3, 6, 4, 5])\n",
        "reversed_arr = arr[::-1]\n",
        "print(\"a) Reversed Array:\", reversed_arr)\n",
        "\n",
        "def most_frequent_info(array):\n",
        "    counts = Counter(array)\n",
        "    most_common_val = counts.most_common(1)[0][0]\n",
        "    indices = np.where(array == most_common_val)[0]\n",
        "    return most_common_val, indices\n",
        "\n",
        "# i.For x\n",
        "x = np.array([1, 2, 3, 4, 5, 1, 2, 1, 1, 1])\n",
        "val_x, idx_x = most_frequent_info(x)\n",
        "print(\"\\nb.i) Array x:\")\n",
        "print(\"Most Frequent Value:\", val_x)\n",
        "print(\"Indices:\", idx_x)\n",
        "\n",
        "# ii.For y\n",
        "y = np.array([1, 1, 1, 2, 3, 4, 2, 4, 3, 3])\n",
        "val_y, idx_y = most_frequent_info(y)\n",
        "print(\"\\nb.ii) Array y:\")\n",
        "print(\"Most Frequent Value:\", val_y)\n",
        "print(\"Indices:\", idx_y)"
      ],
      "metadata": {
        "id": "u30DckihTvub"
      },
      "execution_count": null,
      "outputs": []
    },
    {
      "cell_type": "markdown",
      "source": [
        "Q3.For the given 2-D array arr=np.array([10, 20, 30], [40, 50, 60], [70, 80, 90]), access\n",
        "elements using row and column indices as follows:\n",
        "a) Access 1st row, 2nd column\n",
        "b) Access 3rd row, 1st column"
      ],
      "metadata": {
        "id": "eHU10dnTXKqI"
      }
    },
    {
      "cell_type": "code",
      "source": [
        "import numpy as np\n",
        "arr = np.array([[10, 20, 30],\n",
        "                [40, 50, 60],\n",
        "                [70, 80, 90]])\n",
        "\n",
        "a = arr[0,1]\n",
        "print(\"a) 1st row, 2nd column:\", a)\n",
        "\n",
        "b = arr[2,0]\n",
        "print(\"b) 3rd row, 1st column:\", b)"
      ],
      "metadata": {
        "id": "_sv59_ZsXK0y"
      },
      "execution_count": null,
      "outputs": []
    },
    {
      "cell_type": "markdown",
      "source": [
        "Q4.Write program to create an 1-D NumPy array named <<Your Name>> with evenly\n",
        "spaced 25 numbers from 10 to 100 using linspace(). Print the dimensions of the array, shape, total elements, the data type of each element and total number of bytes consumed by the array. Find the transpose of this array using reshape() attribute. Can we do the same\n",
        "with T attribute?"
      ],
      "metadata": {
        "id": "H5k1rTRPXZG3"
      }
    },
    {
      "cell_type": "code",
      "source": [
        "import numpy as np\n",
        "Your_Name = np.linspace(10, 100, 25)\n",
        "print(\"Array:\", Your_Name)\n",
        "\n",
        "print(\"\\n--- Array Properties ---\")\n",
        "print(\"Dimensions (ndim):\", Your_Name.ndim)\n",
        "print(\"Shape:\", Your_Name.shape)\n",
        "print(\"Total elements (size):\", Your_Name.size)\n",
        "print(\"Data type of each element:\", Your_Name.dtype)\n",
        "print(\"Total bytes consumed (nbytes):\", Your_Name.nbytes)\n",
        "\n",
        "transposed_array = Your_Name.reshape(25, 1)\n",
        "print(\"\\n--- Transposed Array using reshape(25,1) ---\")\n",
        "print(transposed_array)\n",
        "\n",
        "print(\"\\n--- Using T attribute (Your_Name.T) ---\")\n",
        "print(Your_Name.T)\n",
        "\n",
        "print(\"\\nNote: For 1-D arrays, the .T attribute has no effect. It works only on 2-D or higher dimensional arrays.\")"
      ],
      "metadata": {
        "id": "RHNvQcYYXZQP"
      },
      "execution_count": null,
      "outputs": []
    },
    {
      "cell_type": "markdown",
      "source": [
        "Q5.Create a 2-D Array of three rows and four columns, named ucs420_<your_name>>\n",
        "with following values – 10, 20, 30, 40, 50, 60, 70, 80, 90, 15, 20, 35. Compute the mean, median, max, min, unique elements. Reshape the array to four rows and three columns and name it as reshaped_ ucs420_<your_name>>. Resize the array to two rows and three columns and name it as resized_ ucs420_<your_name>>."
      ],
      "metadata": {
        "id": "-V10DoKyX_Cd"
      }
    },
    {
      "cell_type": "code",
      "source": [
        "import numpy as np\n",
        "ucs420_john = np.array([[10, 20, 30, 40],\n",
        "                        [50, 60, 70, 80],\n",
        "                        [90, 15, 20, 35]])\n",
        "\n",
        "print(\"Original Array (ucs420_john):\\n\", ucs420_john)\n",
        "\n",
        "#Statistics\n",
        "print(\"\\nStatistics:\")\n",
        "print(\"Mean:\", np.mean(ucs420_john))\n",
        "print(\"Median:\", np.median(ucs420_john))\n",
        "print(\"Maximum:\", np.max(ucs420_john))\n",
        "print(\"Minimum:\", np.min(ucs420_john))\n",
        "print(\"Unique elements:\", np.unique(ucs420_john))\n",
        "\n",
        "#Reshape(4 rows,3 columns)\n",
        "reshaped_ucs420_john = ucs420_john.reshape(4, 3)\n",
        "print(\"\\nReshaped Array (4x3) reshaped_ucs420_john:\\n\", reshaped_ucs420_john)\n",
        "\n",
        "#Resize (2 rows, 3 columns)\n",
        "resized_ucs420_john = ucs420_john.copy()\n",
        "resized_ucs420_john.resize((2, 3))\n",
        "print(\"\\nResized Array (2x3) resized_ucs420_john:\\n\", resized_ucs420_john)"
      ],
      "metadata": {
        "id": "zbhJSy_4X_Oi"
      },
      "execution_count": null,
      "outputs": []
    }
  ]
}