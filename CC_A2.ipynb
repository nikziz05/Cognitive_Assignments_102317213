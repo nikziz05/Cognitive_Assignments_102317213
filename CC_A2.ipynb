{
  "nbformat": 4,
  "nbformat_minor": 0,
  "metadata": {
    "colab": {
      "provenance": []
    },
    "kernelspec": {
      "name": "python3",
      "display_name": "Python 3"
    },
    "language_info": {
      "name": "python"
    }
  },
  "cells": [
    {
      "cell_type": "markdown",
      "source": [
        "Q1. Create a List L that is defined as= [10, 20, 30, 40, 50, 60, 70, 80].\n",
        "i. WAP to add 200 and 300 to L.\n",
        "ii. WAP to remove 10 and 30 from L.\n",
        "iii. WAP to sort L in ascending order.\n",
        "iv. WAP to sort L in descending order."
      ],
      "metadata": {
        "id": "zDBMlQ6-IPA2"
      }
    },
    {
      "cell_type": "code",
      "execution_count": 3,
      "metadata": {
        "colab": {
          "base_uri": "https://localhost:8080/"
        },
        "id": "TTQED3VkIM54",
        "outputId": "ede54dc2-8592-4838-8a49-2728454c1418"
      },
      "outputs": [
        {
          "output_type": "stream",
          "name": "stdout",
          "text": [
            "List after adding 200 and 300: [10, 20, 30, 40, 50, 60, 70, 80, 200, 300]\n",
            "List after removing 10 and 30: [20, 40, 50, 60, 70, 80, 200, 300]\n",
            "Ascending order: [20, 40, 50, 60, 70, 80, 200, 300]\n",
            "Descending order: [300, 200, 80, 70, 60, 50, 40, 20]\n"
          ]
        }
      ],
      "source": [
        "L = [10, 20, 30, 40, 50, 60, 70, 80]\n",
        "L.append(200)\n",
        "L.append(300)\n",
        "print(\"List after adding 200 and 300:\", L)\n",
        "L.remove(10)\n",
        "L.remove(30)\n",
        "print(\"List after removing 10 and 30:\", L)\n",
        "L.sort()\n",
        "print(\"Ascending order:\", L)\n",
        "L.sort(reverse=True)\n",
        "print(\"Descending order:\", L)"
      ]
    },
    {
      "cell_type": "markdown",
      "source": [
        "Q2. Create a tuple of marks scored as scores = (45, 89.5, 76, 45.4, 89, 92, 58, 45) and\n",
        "perform the following operations using tuple functions:\n",
        "i. Identify the highest score and its index in the tuple.\n",
        "ii. Find the lowest score and count how many times it appears.\n",
        "iii. Reverse the tuple and return it as a list.\n",
        "iv. Check if a specific score ‘76’ (input by the user) is present in the tuple and\n",
        "print its first occurrence index, or a message saying it’s not present."
      ],
      "metadata": {
        "id": "hfaf7Eo_I_pi"
      }
    },
    {
      "cell_type": "code",
      "source": [
        "scores = (45, 89.5, 76, 45.4, 89, 92, 58, 45)\n",
        "highest_score = max(scores)\n",
        "highest_index = scores.index(highest_score)\n",
        "print(f\"Highest score is {highest_score} at index {highest_index}\")\n",
        "\n",
        "lowest_score = min(scores)\n",
        "lowest_count = scores.count(lowest_score)\n",
        "print(f\"Lowest score is {lowest_score} and it appears {lowest_count} time(s)\")\n",
        "\n",
        "reversed_scores = list(scores[::-1])\n",
        "print(f\"Reversed tuple as a list: {reversed_scores}\")\n",
        "\n",
        "user_score = float(input(\"Enter a score to search in the tuple: \"))\n",
        "if user_score in scores:\n",
        "    score_index = scores.index(user_score)\n",
        "    print(f\"The score {user_score} is present at index {score_index}\")\n",
        "else:\n",
        "    print(f\"The score {user_score} is not present in the tuple.\")"
      ],
      "metadata": {
        "colab": {
          "base_uri": "https://localhost:8080/"
        },
        "id": "dulBkwA2I--u",
        "outputId": "d230231c-802a-453a-9c88-56a500d59441"
      },
      "execution_count": 4,
      "outputs": [
        {
          "output_type": "stream",
          "name": "stdout",
          "text": [
            "Highest score is 92 at index 5\n",
            "Lowest score is 45 and it appears 2 time(s)\n",
            "Reversed tuple as a list: [45, 58, 92, 89, 45.4, 76, 89.5, 45]\n",
            "Enter a score to search in the tuple: 50\n",
            "The score 50.0 is not present in the tuple.\n"
          ]
        }
      ]
    },
    {
      "cell_type": "markdown",
      "source": [
        "Q3. WAP to create a list of 100 random numbers between 100 and 900. Count and print\n",
        "the:\n",
        "i. All odd numbers\n",
        "ii. All even numbers\n",
        "iii. All prime numbers"
      ],
      "metadata": {
        "id": "S83M-bdDJmbM"
      }
    },
    {
      "cell_type": "code",
      "source": [
        "import random\n",
        "def is_prime(n):\n",
        "    if n <= 1:\n",
        "        return False\n",
        "    for i in range(2, int(n ** 0.5) + 1):\n",
        "        if n % i == 0:\n",
        "            return False\n",
        "    return True\n",
        "\n",
        "random_numbers = [random.randint(100, 900) for _ in range(100)]\n",
        "\n",
        "odd_numbers = []\n",
        "even_numbers = []\n",
        "prime_numbers = []\n",
        "\n",
        "for num in random_numbers:\n",
        "    if num % 2 == 0:\n",
        "        even_numbers.append(num)\n",
        "    else:\n",
        "        odd_numbers.append(num)\n",
        "\n",
        "    if is_prime(num):\n",
        "        prime_numbers.append(num)\n",
        "\n",
        "print(f\"Total odd numbers: {len(odd_numbers)}\")\n",
        "print(f\"Total even numbers: {len(even_numbers)}\")\n",
        "print(f\"Total prime numbers: {len(prime_numbers)}\")\n",
        "\n",
        "print(f\"Odd numbers: {odd_numbers}\")\n",
        "print(f\"Even numbers: {even_numbers}\")\n",
        "print(f\"Prime numbers: {prime_numbers}\")\n"
      ],
      "metadata": {
        "colab": {
          "base_uri": "https://localhost:8080/"
        },
        "id": "faYeTaGoJmtG",
        "outputId": "2c94e42f-5ef3-4715-c1b9-a3d85ffa42e8"
      },
      "execution_count": 5,
      "outputs": [
        {
          "output_type": "stream",
          "name": "stdout",
          "text": [
            "Total odd numbers: 55\n",
            "Total even numbers: 45\n",
            "Total prime numbers: 18\n",
            "Odd numbers: [401, 223, 491, 199, 755, 255, 239, 279, 763, 727, 415, 523, 511, 351, 147, 411, 865, 125, 475, 875, 227, 639, 133, 627, 307, 381, 821, 291, 687, 131, 685, 745, 373, 535, 757, 115, 197, 307, 265, 161, 451, 551, 177, 585, 607, 119, 431, 243, 709, 469, 289, 247, 665, 301, 657]\n",
            "Even numbers: [242, 128, 338, 488, 202, 714, 818, 716, 222, 590, 776, 246, 588, 762, 798, 340, 428, 426, 800, 616, 726, 212, 346, 762, 694, 554, 730, 816, 450, 762, 894, 382, 236, 436, 416, 892, 490, 414, 636, 560, 858, 396, 410, 712, 378]\n",
            "Prime numbers: [401, 223, 491, 199, 239, 727, 523, 227, 307, 821, 131, 373, 757, 197, 307, 607, 431, 709]\n"
          ]
        }
      ]
    },
    {
      "cell_type": "markdown",
      "source": [
        "Q4.Consider the following two sets, A and B, representing scores of two teams in mulƟple\n",
        "matches. A = {34, 56, 78, 90} and B = {78, 45, 90, 23}\n",
        "WAP to perform the following operaƟons using set funcƟons:\n",
        "i. Find the unique scores achieved by both teams (union of sets).\n",
        "ii. IdenƟfy the scores that are common to both teams (intersecƟon of sets).\n",
        "iii. Find the scores that are exclusive to each team (symmetric difference).\n",
        "iv. Check if the scores of team A are a subset of team B, and if team B's scores are\n",
        "a superset of team A.\n",
        "v. Remove a specific score 𝑋 (input by the user) from set A if it exists. If not, print\n",
        "a message saying it is not present."
      ],
      "metadata": {
        "id": "bTEXdi5xKuhD"
      }
    },
    {
      "cell_type": "code",
      "source": [
        "A = {34, 56, 78, 90}\n",
        "B = {78, 45, 90, 23}\n",
        "\n",
        "union_set = A.union(B)\n",
        "print(f\"Unique scores achieved by both teams (Union of sets): {union_set}\")\n",
        "\n",
        "intersection_set = A.intersection(B)\n",
        "print(f\"Scores common to both teams (Intersection of sets): {intersection_set}\")\n",
        "\n",
        "symmetric_difference_set = A.symmetric_difference(B)\n",
        "print(f\"Scores exclusive to each team (Symmetric difference): {symmetric_difference_set}\")\n",
        "\n",
        "is_subset_A_of_B = A.issubset(B)\n",
        "is_superset_B_of_A = B.issuperset(A)\n",
        "print(f\"Is team A's scores a subset of team B's scores? {is_subset_A_of_B}\")\n",
        "print(f\"Is team B's scores a superset of team A's scores? {is_superset_B_of_A}\")\n",
        "\n",
        "X = int(input(\"Enter the score you want to remove from set A: \"))\n",
        "if X in A:\n",
        "    A.remove(X)\n",
        "    print(f\"Score {X} has been removed from set A.\")\n",
        "else:\n",
        "    print(f\"Score {X} is not present in set A.\")\n"
      ],
      "metadata": {
        "colab": {
          "base_uri": "https://localhost:8080/"
        },
        "id": "Oaud6JZpKuNW",
        "outputId": "0897f775-af96-4bc8-e269-0a8c3b5ceafa"
      },
      "execution_count": 7,
      "outputs": [
        {
          "output_type": "stream",
          "name": "stdout",
          "text": [
            "Unique scores achieved by both teams (Union of sets): {34, 45, 78, 23, 56, 90}\n",
            "Scores common to both teams (Intersection of sets): {90, 78}\n",
            "Scores exclusive to each team (Symmetric difference): {34, 45, 23, 56}\n",
            "Is team A's scores a subset of team B's scores? False\n",
            "Is team B's scores a superset of team A's scores? False\n",
            "Enter the score you want to remove from set A: 78\n",
            "Score 78 has been removed from set A.\n"
          ]
        }
      ]
    },
    {
      "cell_type": "markdown",
      "source": [
        "Q5. Write a program to rename a key city to a location in the following dictionary"
      ],
      "metadata": {
        "id": "3ZF7nSRwLulB"
      }
    },
    {
      "cell_type": "code",
      "source": [
        "sample_dict = {\"name\": \"Kelly\",\"age\": 25,\"salary\": 8000,\"city\": \"New york\"}\n",
        "sample_dict[\"location\"] = sample_dict.pop(\"city\")\n",
        "print(sample_dict)\n"
      ],
      "metadata": {
        "colab": {
          "base_uri": "https://localhost:8080/"
        },
        "id": "a_ZhEh8ELuxf",
        "outputId": "3fadca97-56b3-451e-f927-75eadbced3bb"
      },
      "execution_count": 10,
      "outputs": [
        {
          "output_type": "stream",
          "name": "stdout",
          "text": [
            "{'name': 'Kelly', 'age': 25, 'salary': 8000, 'location': 'New york'}\n"
          ]
        }
      ]
    }
  ]
}